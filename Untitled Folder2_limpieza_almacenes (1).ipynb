{
  "metadata": {
    "toc-autonumbering": true,
    "language_info": {
      "codemirror_mode": {
        "name": "python",
        "version": 3
      },
      "file_extension": ".py",
      "mimetype": "text/x-python",
      "name": "python",
      "nbconvert_exporter": "python",
      "pygments_lexer": "ipython3",
      "version": "3.8"
    },
    "kernelspec": {
      "name": "python",
      "display_name": "Python (Pyodide)",
      "language": "python"
    }
  },
  "nbformat_minor": 4,
  "nbformat": 4,
  "cells": [
    {
      "cell_type": "code",
      "source": "import pandas as pd",
      "metadata": {
        "trusted": true
      },
      "execution_count": 6,
      "outputs": []
    },
    {
      "cell_type": "code",
      "source": "import numpy as np",
      "metadata": {
        "trusted": true
      },
      "execution_count": 7,
      "outputs": []
    },
    {
      "cell_type": "code",
      "source": "file ='almacenes (2).csv'",
      "metadata": {
        "trusted": true
      },
      "execution_count": 8,
      "outputs": []
    },
    {
      "cell_type": "code",
      "source": "df = pd.read_csv (file, encoding=\"ISO-8859-1\")",
      "metadata": {
        "trusted": true
      },
      "execution_count": 9,
      "outputs": []
    },
    {
      "cell_type": "code",
      "source": "df.head()",
      "metadata": {
        "trusted": true
      },
      "execution_count": 10,
      "outputs": [
        {
          "execution_count": 10,
          "output_type": "execute_result",
          "data": {
            "text/plain": "   id              name               lot_stock_id\n0   1   ALMACEN CENTRAL   [8, 'WCENT/Existencias']\n1   2     ALAMEDA (QRO)  [18, 'WALAM/Existencias']\n2   6  ALLENDE (CELAYA)  [42, 'WALLC/Existencias']\n3   7     ALLENDE (QRO)  [52, 'WALQR/Existencias']\n4   9  ANDADOR (CELAYA)  [64, 'WANDA/Existencias']",
            "text/html": "<div>\n<style scoped>\n    .dataframe tbody tr th:only-of-type {\n        vertical-align: middle;\n    }\n\n    .dataframe tbody tr th {\n        vertical-align: top;\n    }\n\n    .dataframe thead th {\n        text-align: right;\n    }\n</style>\n<table border=\"1\" class=\"dataframe\">\n  <thead>\n    <tr style=\"text-align: right;\">\n      <th></th>\n      <th>id</th>\n      <th>name</th>\n      <th>lot_stock_id</th>\n    </tr>\n  </thead>\n  <tbody>\n    <tr>\n      <th>0</th>\n      <td>1</td>\n      <td>ALMACEN CENTRAL</td>\n      <td>[8, 'WCENT/Existencias']</td>\n    </tr>\n    <tr>\n      <th>1</th>\n      <td>2</td>\n      <td>ALAMEDA (QRO)</td>\n      <td>[18, 'WALAM/Existencias']</td>\n    </tr>\n    <tr>\n      <th>2</th>\n      <td>6</td>\n      <td>ALLENDE (CELAYA)</td>\n      <td>[42, 'WALLC/Existencias']</td>\n    </tr>\n    <tr>\n      <th>3</th>\n      <td>7</td>\n      <td>ALLENDE (QRO)</td>\n      <td>[52, 'WALQR/Existencias']</td>\n    </tr>\n    <tr>\n      <th>4</th>\n      <td>9</td>\n      <td>ANDADOR (CELAYA)</td>\n      <td>[64, 'WANDA/Existencias']</td>\n    </tr>\n  </tbody>\n</table>\n</div>"
          },
          "metadata": {}
        }
      ]
    },
    {
      "cell_type": "code",
      "source": "df.info()",
      "metadata": {
        "trusted": true
      },
      "execution_count": 11,
      "outputs": [
        {
          "name": "stdout",
          "text": "<class 'pandas.core.frame.DataFrame'>\nRangeIndex: 31 entries, 0 to 30\nData columns (total 3 columns):\n #   Column        Non-Null Count  Dtype \n---  ------        --------------  ----- \n 0   id            31 non-null     int64 \n 1   name          31 non-null     object\n 2   lot_stock_id  31 non-null     object\ndtypes: int64(1), object(2)\nmemory usage: 564.0+ bytes\n",
          "output_type": "stream"
        }
      ]
    },
    {
      "cell_type": "code",
      "source": "df = df.dropna(how='any')",
      "metadata": {
        "trusted": true
      },
      "execution_count": 12,
      "outputs": []
    },
    {
      "cell_type": "code",
      "source": "df.dtypes",
      "metadata": {
        "trusted": true
      },
      "execution_count": 13,
      "outputs": [
        {
          "execution_count": 13,
          "output_type": "execute_result",
          "data": {
            "text/plain": "id               int64\nname            object\nlot_stock_id    object\ndtype: object"
          },
          "metadata": {}
        }
      ]
    },
    {
      "cell_type": "code",
      "source": "df['name'].value_counts()",
      "metadata": {
        "trusted": true
      },
      "execution_count": 14,
      "outputs": [
        {
          "execution_count": 14,
          "output_type": "execute_result",
          "data": {
            "text/plain": "ALMACEN CENTRAL         1\nHIDALGO 2 (CELAYA)      1\nVALLARTA (VTA)          1\nURBAN (QRO)             1\nPORTAL (QRO)            1\nPLAZA PATIO (QRO)       1\nPLAZA MAYOR (LEON)      1\nPARQUE (QRO)            1\nPARQUE (CELAYA)         1\nOBREGON (LEON)          1\nMADERO (QRO)            1\nMADERO (LEON)           1\nLEON CENTRO (LEON)      1\nLA VICTORIA (QRO)       1\nLA CRUZ (QRO)           1\nHIDALGO (CELAYA)        1\nALAMEDA (QRO)           1\nGUERRERO (QRO)          1\nGALERIAS (QRO)          1\nFIESTA (IRAPUATO)       1\nMAYOREO (QRO)           1\nCORREGIDORA 4 (QRO)     1\nCORREGIDORA 3 (QRO)     1\nCORREGIDORA 2 (QRO)     1\nCONSTITUYENTES (QRO)    1\nBOULEVARES (QRO)        1\nANTEA (QRO)             1\nANDADOR (CELAYA)        1\nALLENDE (QRO)           1\nALLENDE (CELAYA)        1\nVIA ALTA SUR (LEON)     1\nName: name, dtype: int64"
          },
          "metadata": {}
        }
      ]
    },
    {
      "cell_type": "code",
      "source": "df['lot_stock_id'].value_counts()",
      "metadata": {
        "trusted": true
      },
      "execution_count": 16,
      "outputs": [
        {
          "execution_count": 16,
          "output_type": "execute_result",
          "data": {
            "text/plain": "[8, 'WCENT/Existencias']         1\n[196, 'WHID2/Existencias']       1\n[82, 'WVRTA/Existencias']        1\n[94, 'WURBA/Existencias']        1\n[118, 'WPORT/Existencias']       1\n[160, 'WPATI/Existencias']       1\n[202, 'WMAYR/Existencias']       1\n[148, 'WPQRO/Existencias']       1\n[172, 'WPCYA/Existencias']       1\n[190, 'WOBRE/Existencias']       1\n[214, 'WMADQ/Existencias']       1\n[125, 'WMADL/Existencias']       1\n[220, 'WLEOC/Existencias']       1\n[58, 'WVICT/Existencias']        1\n[154, 'WCRUZ/Existencias']       1\n[208, 'WHID1/Existencias']       1\n[18, 'WALAM/Existencias']        1\n[184, 'WGUER/Existencias']       1\n[178, 'WGALE/Existencias']       1\n[166, 'WFIES/Existencias']       1\n[314, 'WMAYOREO/Existencias']    1\n[142, 'WCOR4/Existencias']       1\n[136, 'WCOR3/Existencias']       1\n[107, 'WCOR2/Existencias']       1\n[100, 'WCONS/Existencias']       1\n[88, 'WBOUL/Existencias']        1\n[70, 'WANTE/Existencias']        1\n[64, 'WANDA/Existencias']        1\n[52, 'WALQR/Existencias']        1\n[42, 'WALLC/Existencias']        1\n[76, 'WVIAL/Existencias']        1\nName: lot_stock_id, dtype: int64"
          },
          "metadata": {}
        }
      ]
    },
    {
      "cell_type": "code",
      "source": "linea_almacen = df['lot_stock_id']",
      "metadata": {
        "trusted": true
      },
      "execution_count": 26,
      "outputs": []
    },
    {
      "cell_type": "code",
      "source": "id_del_almacen = linea_almacen[0]",
      "metadata": {
        "trusted": true
      },
      "execution_count": 28,
      "outputs": []
    },
    {
      "cell_type": "code",
      "source": "print(id_del_almacen)",
      "metadata": {
        "trusted": true
      },
      "execution_count": 29,
      "outputs": [
        {
          "name": "stdout",
          "text": "[8, 'WCENT/Existencias']\n",
          "output_type": "stream"
        }
      ]
    },
    {
      "cell_type": "code",
      "source": "lista_almacen = id_del_almacen.split(\",\")",
      "metadata": {
        "trusted": true
      },
      "execution_count": 32,
      "outputs": []
    },
    {
      "cell_type": "code",
      "source": "print(lista_almacen)",
      "metadata": {
        "trusted": true
      },
      "execution_count": 33,
      "outputs": [
        {
          "name": "stdout",
          "text": "['[8', \" 'WCENT/Existencias']\"]\n",
          "output_type": "stream"
        }
      ]
    },
    {
      "cell_type": "code",
      "source": "import ast",
      "metadata": {
        "trusted": true
      },
      "execution_count": 35,
      "outputs": []
    },
    {
      "cell_type": "code",
      "source": "prueba_lista = ast.literal_eval(id_del_almacen)",
      "metadata": {
        "trusted": true
      },
      "execution_count": 38,
      "outputs": []
    },
    {
      "cell_type": "code",
      "source": "\nprint (prueba_lista[0])\n",
      "metadata": {
        "trusted": true
      },
      "execution_count": 44,
      "outputs": [
        {
          "name": "stdout",
          "text": "8\n",
          "output_type": "stream"
        }
      ]
    },
    {
      "cell_type": "code",
      "source": "print(df.columns)",
      "metadata": {
        "trusted": true
      },
      "execution_count": 45,
      "outputs": [
        {
          "name": "stdout",
          "text": "Index(['id', 'name', 'lot_stock_id'], dtype='object')\n",
          "output_type": "stream"
        }
      ]
    },
    {
      "cell_type": "code",
      "source": "idslimpios_df = df['lot_stock_id'].str.split(', ', n=1, expand=True).rename(columns={0:'lot_stock_id', 1:'Nombre Almacen'})\nidslimpios_df['lot_stock_id'] = idslimpios_df['lot_stock_id'].str[1:]\nidslimpios_df['Nombre Almacen'] = idslimpios_df['Nombre Almacen'].str[:-1]\nidslimpios_df",
      "metadata": {
        "trusted": true
      },
      "execution_count": 47,
      "outputs": [
        {
          "execution_count": 47,
          "output_type": "execute_result",
          "data": {
            "text/plain": "   lot_stock_id          Nombre Almacen\n0             8     'WCENT/Existencias'\n1            18     'WALAM/Existencias'\n2            42     'WALLC/Existencias'\n3            52     'WALQR/Existencias'\n4            64     'WANDA/Existencias'\n5            70     'WANTE/Existencias'\n6            88     'WBOUL/Existencias'\n7           100     'WCONS/Existencias'\n8           107     'WCOR2/Existencias'\n9           136     'WCOR3/Existencias'\n10          142     'WCOR4/Existencias'\n11          314  'WMAYOREO/Existencias'\n12          166     'WFIES/Existencias'\n13          178     'WGALE/Existencias'\n14          184     'WGUER/Existencias'\n15          208     'WHID1/Existencias'\n16          196     'WHID2/Existencias'\n17          154     'WCRUZ/Existencias'\n18           58     'WVICT/Existencias'\n19          220     'WLEOC/Existencias'\n20          125     'WMADL/Existencias'\n21          214     'WMADQ/Existencias'\n22          190     'WOBRE/Existencias'\n23          172     'WPCYA/Existencias'\n24          148     'WPQRO/Existencias'\n25          202     'WMAYR/Existencias'\n26          160     'WPATI/Existencias'\n27          118     'WPORT/Existencias'\n28           94     'WURBA/Existencias'\n29           82     'WVRTA/Existencias'\n30           76     'WVIAL/Existencias'",
            "text/html": "<div>\n<style scoped>\n    .dataframe tbody tr th:only-of-type {\n        vertical-align: middle;\n    }\n\n    .dataframe tbody tr th {\n        vertical-align: top;\n    }\n\n    .dataframe thead th {\n        text-align: right;\n    }\n</style>\n<table border=\"1\" class=\"dataframe\">\n  <thead>\n    <tr style=\"text-align: right;\">\n      <th></th>\n      <th>lot_stock_id</th>\n      <th>Nombre Almacen</th>\n    </tr>\n  </thead>\n  <tbody>\n    <tr>\n      <th>0</th>\n      <td>8</td>\n      <td>'WCENT/Existencias'</td>\n    </tr>\n    <tr>\n      <th>1</th>\n      <td>18</td>\n      <td>'WALAM/Existencias'</td>\n    </tr>\n    <tr>\n      <th>2</th>\n      <td>42</td>\n      <td>'WALLC/Existencias'</td>\n    </tr>\n    <tr>\n      <th>3</th>\n      <td>52</td>\n      <td>'WALQR/Existencias'</td>\n    </tr>\n    <tr>\n      <th>4</th>\n      <td>64</td>\n      <td>'WANDA/Existencias'</td>\n    </tr>\n    <tr>\n      <th>5</th>\n      <td>70</td>\n      <td>'WANTE/Existencias'</td>\n    </tr>\n    <tr>\n      <th>6</th>\n      <td>88</td>\n      <td>'WBOUL/Existencias'</td>\n    </tr>\n    <tr>\n      <th>7</th>\n      <td>100</td>\n      <td>'WCONS/Existencias'</td>\n    </tr>\n    <tr>\n      <th>8</th>\n      <td>107</td>\n      <td>'WCOR2/Existencias'</td>\n    </tr>\n    <tr>\n      <th>9</th>\n      <td>136</td>\n      <td>'WCOR3/Existencias'</td>\n    </tr>\n    <tr>\n      <th>10</th>\n      <td>142</td>\n      <td>'WCOR4/Existencias'</td>\n    </tr>\n    <tr>\n      <th>11</th>\n      <td>314</td>\n      <td>'WMAYOREO/Existencias'</td>\n    </tr>\n    <tr>\n      <th>12</th>\n      <td>166</td>\n      <td>'WFIES/Existencias'</td>\n    </tr>\n    <tr>\n      <th>13</th>\n      <td>178</td>\n      <td>'WGALE/Existencias'</td>\n    </tr>\n    <tr>\n      <th>14</th>\n      <td>184</td>\n      <td>'WGUER/Existencias'</td>\n    </tr>\n    <tr>\n      <th>15</th>\n      <td>208</td>\n      <td>'WHID1/Existencias'</td>\n    </tr>\n    <tr>\n      <th>16</th>\n      <td>196</td>\n      <td>'WHID2/Existencias'</td>\n    </tr>\n    <tr>\n      <th>17</th>\n      <td>154</td>\n      <td>'WCRUZ/Existencias'</td>\n    </tr>\n    <tr>\n      <th>18</th>\n      <td>58</td>\n      <td>'WVICT/Existencias'</td>\n    </tr>\n    <tr>\n      <th>19</th>\n      <td>220</td>\n      <td>'WLEOC/Existencias'</td>\n    </tr>\n    <tr>\n      <th>20</th>\n      <td>125</td>\n      <td>'WMADL/Existencias'</td>\n    </tr>\n    <tr>\n      <th>21</th>\n      <td>214</td>\n      <td>'WMADQ/Existencias'</td>\n    </tr>\n    <tr>\n      <th>22</th>\n      <td>190</td>\n      <td>'WOBRE/Existencias'</td>\n    </tr>\n    <tr>\n      <th>23</th>\n      <td>172</td>\n      <td>'WPCYA/Existencias'</td>\n    </tr>\n    <tr>\n      <th>24</th>\n      <td>148</td>\n      <td>'WPQRO/Existencias'</td>\n    </tr>\n    <tr>\n      <th>25</th>\n      <td>202</td>\n      <td>'WMAYR/Existencias'</td>\n    </tr>\n    <tr>\n      <th>26</th>\n      <td>160</td>\n      <td>'WPATI/Existencias'</td>\n    </tr>\n    <tr>\n      <th>27</th>\n      <td>118</td>\n      <td>'WPORT/Existencias'</td>\n    </tr>\n    <tr>\n      <th>28</th>\n      <td>94</td>\n      <td>'WURBA/Existencias'</td>\n    </tr>\n    <tr>\n      <th>29</th>\n      <td>82</td>\n      <td>'WVRTA/Existencias'</td>\n    </tr>\n    <tr>\n      <th>30</th>\n      <td>76</td>\n      <td>'WVIAL/Existencias'</td>\n    </tr>\n  </tbody>\n</table>\n</div>"
          },
          "metadata": {}
        }
      ]
    },
    {
      "cell_type": "code",
      "source": "idslimpios_df.to_csv('almacenes_dimovil.csv', index=False)",
      "metadata": {
        "trusted": true
      },
      "execution_count": 48,
      "outputs": []
    },
    {
      "cell_type": "code",
      "source": "",
      "metadata": {},
      "execution_count": null,
      "outputs": []
    }
  ]
}