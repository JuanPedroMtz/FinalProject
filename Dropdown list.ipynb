{
 "cells": [
  {
   "cell_type": "code",
   "execution_count": 1,
   "id": "2c59e146",
   "metadata": {},
   "outputs": [
    {
     "data": {
      "application/vnd.jupyter.widget-view+json": {
       "model_id": "56bef043e2cf40ca9c234eb31cf4ef04",
       "version_major": 2,
       "version_minor": 0
      },
      "text/plain": [
       "interactive(children=(Dropdown(description='Store', options=('name_ALAMEDA (QRO)', 'name_ALLENDE (CELAYA)', 'n…"
      ]
     },
     "metadata": {},
     "output_type": "display_data"
    },
    {
     "data": {
      "text/plain": [
       "<function __main__.store(Store)>"
      ]
     },
     "execution_count": 1,
     "metadata": {},
     "output_type": "execute_result"
    }
   ],
   "source": [
    "from ipywidgets import interact\n",
    "def store(Store): \n",
    "    return\n",
    "\n",
    "interact(store, Store=[ 'name_ALAMEDA (QRO)',\n",
    "    'name_ALLENDE (CELAYA)',\n",
    "    'name_ALLENDE (QRO)',\n",
    "    'name_ANDADOR (CELAYA)',\n",
    "    'name_ANTEA (QRO)',\n",
    "    'name_BOULEVARES (QRO)',\n",
    "    'name_CONSTITUYENTES (QRO)',\n",
    "    'name_CORREGIDORA 2 (QRO)',\n",
    "    'name_CORREGIDORA 3 (QRO)',\n",
    "    'name_CORREGIDORA 4 (QRO)',\n",
    "    'name_FIESTA (IRAPUATO)',\n",
    "    'name_GALERIAS (QRO)',\n",
    "    'name_GUERRERO (QRO)',\n",
    "    'name_HIDALGO (CELAYA)',\n",
    "    'name_HIDALGO 2 (CELAYA)',\n",
    "    'name_LA CRUZ (QRO)',\n",
    "    'name_LA VICTORIA (QRO)',\n",
    "    'name_LEON CENTRO (LEON)',\n",
    "    'name_MADERO (LEON)',\n",
    "    'name_MADERO (QRO)',\n",
    "    'name_MAYOREO (QRO)',\n",
    "    'name_OBREGON (LEON)',\n",
    "    'name_PARQUE (CELAYA)',\n",
    "    'name_PARQUE (QRO)',\n",
    "    'name_PLAZA MAYOR (LEON)',\n",
    "    'name_PLAZA PATIO (QRO)',\n",
    "    'name_PORTAL (QRO)',\n",
    "    'name_URBAN (QRO)',\n",
    "    'name_VALLARTA (VTA)',\n",
    "    'name_VIA ALTA SUR (LEON)'])"
   ]
  },
  {
   "cell_type": "code",
   "execution_count": 3,
   "id": "2ddf0e70",
   "metadata": {},
   "outputs": [
    {
     "data": {
      "application/vnd.jupyter.widget-view+json": {
       "model_id": "7e90164f64a946e5ada60ee3b4051c0a",
       "version_major": 2,
       "version_minor": 0
      },
      "text/plain": [
       "interactive(children=(Dropdown(description='Month', options=('month_April', 'month_August', 'month_December', …"
      ]
     },
     "metadata": {},
     "output_type": "display_data"
    },
    {
     "data": {
      "text/plain": [
       "<function __main__.month(Month)>"
      ]
     },
     "execution_count": 3,
     "metadata": {},
     "output_type": "execute_result"
    }
   ],
   "source": [
    "def month(Month): \n",
    "    return\n",
    "\n",
    "interact(month, Month=['month_April',\n",
    "    'month_August',\n",
    "    'month_December',\n",
    "    'month_February',\n",
    "    'month_January',\n",
    "    'month_July',\n",
    "    'month_June',\n",
    "    'month_May',\n",
    "    'month_November',\n",
    "    'month_October',\n",
    "    'month_September'])"
   ]
  },
  {
   "cell_type": "code",
   "execution_count": 5,
   "id": "2fa3758c",
   "metadata": {},
   "outputs": [
    {
     "data": {
      "application/vnd.jupyter.widget-view+json": {
       "model_id": "72400e604612483091a1442690e5ed6f",
       "version_major": 2,
       "version_minor": 0
      },
      "text/plain": [
       "interactive(children=(Dropdown(description='Brand', options=('brand_ACER', 'brand_ALC', 'brand_ALCATEL', 'bran…"
      ]
     },
     "metadata": {},
     "output_type": "display_data"
    },
    {
     "data": {
      "text/plain": [
       "<function __main__.brand(Brand)>"
      ]
     },
     "execution_count": 5,
     "metadata": {},
     "output_type": "execute_result"
    }
   ],
   "source": [
    "def brand(Brand): \n",
    "    return\n",
    "\n",
    "interact(brand, Brand=['brand_ACER', 'brand_ALC', 'brand_ALCATEL',\n",
    "       'brand_APPLE', 'brand_BLU', 'brand_CORN', 'brand_DASH', 'brand_DOPPIO',\n",
    "       'brand_EPIK', 'brand_HISENSE', 'brand_HONOR', 'brand_HUAWEI',\n",
    "       'brand_I-MOBIL', 'brand_INFINITI', 'brand_KODAK', 'brand_LANIX',\n",
    "       'brand_LG', 'brand_MOTO', 'brand_MOTOROLA', 'brand_NOKIA',\n",
    "       'brand_ONEPLUS', 'brand_OPPO', 'brand_REALME', 'brand_SAM',\n",
    "       'brand_SAMSUNG', 'brand_SENWA', 'brand_SKY', 'brand_SOYEALINK',\n",
    "       'brand_TCL', 'brand_VIVO', 'brand_XIAOMI', 'brand_ZTE'])"
   ]
  },
  {
   "cell_type": "code",
   "execution_count": null,
   "id": "d6eadd1d",
   "metadata": {},
   "outputs": [],
   "source": [
    "input(brand)"
   ]
  },
  {
   "cell_type": "code",
   "execution_count": null,
   "id": "21e7d4d3",
   "metadata": {},
   "outputs": [],
   "source": []
  }
 ],
 "metadata": {
  "kernelspec": {
   "display_name": "Python 3 (ipykernel)",
   "language": "python",
   "name": "python3"
  },
  "language_info": {
   "codemirror_mode": {
    "name": "ipython",
    "version": 3
   },
   "file_extension": ".py",
   "mimetype": "text/x-python",
   "name": "python",
   "nbconvert_exporter": "python",
   "pygments_lexer": "ipython3",
   "version": "3.9.12"
  }
 },
 "nbformat": 4,
 "nbformat_minor": 5
}
