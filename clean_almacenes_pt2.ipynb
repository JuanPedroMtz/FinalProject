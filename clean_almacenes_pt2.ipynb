{
  "metadata": {
    "language_info": {
      "codemirror_mode": {
        "name": "python",
        "version": 3
      },
      "file_extension": ".py",
      "mimetype": "text/x-python",
      "name": "python",
      "nbconvert_exporter": "python",
      "pygments_lexer": "ipython3",
      "version": "3.8"
    },
    "kernelspec": {
      "name": "python",
      "display_name": "Python (Pyodide)",
      "language": "python"
    }
  },
  "nbformat_minor": 4,
  "nbformat": 4,
  "cells": [
    {
      "cell_type": "code",
      "source": "import pandas as pd\nimport numpy as np",
      "metadata": {
        "trusted": true
      },
      "execution_count": 1,
      "outputs": []
    },
    {
      "cell_type": "code",
      "source": "#find my data base\nfile ='almacenes.csv'",
      "metadata": {
        "trusted": true
      },
      "execution_count": 2,
      "outputs": []
    },
    {
      "cell_type": "code",
      "source": "#read my csv file which contains the data base\nalmacenes_df = pd.read_csv(file)",
      "metadata": {
        "trusted": true
      },
      "execution_count": 3,
      "outputs": []
    },
    {
      "cell_type": "code",
      "source": "#display dataframe\nalmacenes_df.head()",
      "metadata": {
        "trusted": true
      },
      "execution_count": 4,
      "outputs": [
        {
          "execution_count": 4,
          "output_type": "execute_result",
          "data": {
            "text/plain": "   id              name               lot_stock_id\n0   1   ALMACEN CENTRAL   [8, 'WCENT/Existencias']\n1   2     ALAMEDA (QRO)  [18, 'WALAM/Existencias']\n2   6  ALLENDE (CELAYA)  [42, 'WALLC/Existencias']\n3   7     ALLENDE (QRO)  [52, 'WALQR/Existencias']\n4   9  ANDADOR (CELAYA)  [64, 'WANDA/Existencias']",
            "text/html": "<div>\n<style scoped>\n    .dataframe tbody tr th:only-of-type {\n        vertical-align: middle;\n    }\n\n    .dataframe tbody tr th {\n        vertical-align: top;\n    }\n\n    .dataframe thead th {\n        text-align: right;\n    }\n</style>\n<table border=\"1\" class=\"dataframe\">\n  <thead>\n    <tr style=\"text-align: right;\">\n      <th></th>\n      <th>id</th>\n      <th>name</th>\n      <th>lot_stock_id</th>\n    </tr>\n  </thead>\n  <tbody>\n    <tr>\n      <th>0</th>\n      <td>1</td>\n      <td>ALMACEN CENTRAL</td>\n      <td>[8, 'WCENT/Existencias']</td>\n    </tr>\n    <tr>\n      <th>1</th>\n      <td>2</td>\n      <td>ALAMEDA (QRO)</td>\n      <td>[18, 'WALAM/Existencias']</td>\n    </tr>\n    <tr>\n      <th>2</th>\n      <td>6</td>\n      <td>ALLENDE (CELAYA)</td>\n      <td>[42, 'WALLC/Existencias']</td>\n    </tr>\n    <tr>\n      <th>3</th>\n      <td>7</td>\n      <td>ALLENDE (QRO)</td>\n      <td>[52, 'WALQR/Existencias']</td>\n    </tr>\n    <tr>\n      <th>4</th>\n      <td>9</td>\n      <td>ANDADOR (CELAYA)</td>\n      <td>[64, 'WANDA/Existencias']</td>\n    </tr>\n  </tbody>\n</table>\n</div>"
          },
          "metadata": {}
        }
      ]
    },
    {
      "cell_type": "code",
      "source": "#display my columns in order to understand the dataframe\nprint(almacenes_df.columns)",
      "metadata": {
        "trusted": true
      },
      "execution_count": 5,
      "outputs": [
        {
          "name": "stdout",
          "text": "Index(['id', 'name', 'lot_stock_id'], dtype='object')\n",
          "output_type": "stream"
        }
      ]
    },
    {
      "cell_type": "code",
      "source": "# Drop false values\nalmacenes_df = almacenes_df[almacenes_df != 'False'].dropna()\nalmacenes_df.head()",
      "metadata": {
        "trusted": true
      },
      "execution_count": 6,
      "outputs": [
        {
          "execution_count": 6,
          "output_type": "execute_result",
          "data": {
            "text/plain": "   id              name               lot_stock_id\n0   1   ALMACEN CENTRAL   [8, 'WCENT/Existencias']\n1   2     ALAMEDA (QRO)  [18, 'WALAM/Existencias']\n2   6  ALLENDE (CELAYA)  [42, 'WALLC/Existencias']\n3   7     ALLENDE (QRO)  [52, 'WALQR/Existencias']\n4   9  ANDADOR (CELAYA)  [64, 'WANDA/Existencias']",
            "text/html": "<div>\n<style scoped>\n    .dataframe tbody tr th:only-of-type {\n        vertical-align: middle;\n    }\n\n    .dataframe tbody tr th {\n        vertical-align: top;\n    }\n\n    .dataframe thead th {\n        text-align: right;\n    }\n</style>\n<table border=\"1\" class=\"dataframe\">\n  <thead>\n    <tr style=\"text-align: right;\">\n      <th></th>\n      <th>id</th>\n      <th>name</th>\n      <th>lot_stock_id</th>\n    </tr>\n  </thead>\n  <tbody>\n    <tr>\n      <th>0</th>\n      <td>1</td>\n      <td>ALMACEN CENTRAL</td>\n      <td>[8, 'WCENT/Existencias']</td>\n    </tr>\n    <tr>\n      <th>1</th>\n      <td>2</td>\n      <td>ALAMEDA (QRO)</td>\n      <td>[18, 'WALAM/Existencias']</td>\n    </tr>\n    <tr>\n      <th>2</th>\n      <td>6</td>\n      <td>ALLENDE (CELAYA)</td>\n      <td>[42, 'WALLC/Existencias']</td>\n    </tr>\n    <tr>\n      <th>3</th>\n      <td>7</td>\n      <td>ALLENDE (QRO)</td>\n      <td>[52, 'WALQR/Existencias']</td>\n    </tr>\n    <tr>\n      <th>4</th>\n      <td>9</td>\n      <td>ANDADOR (CELAYA)</td>\n      <td>[64, 'WANDA/Existencias']</td>\n    </tr>\n  </tbody>\n</table>\n</div>"
          },
          "metadata": {}
        }
      ]
    },
    {
      "cell_type": "code",
      "source": "# Split the 'product_id' column of ventas_linea_df into two columns using the comma delimiter and select each column\nalmacenesV2_df = almacenes_df['lot_stock_id'].str.split(', ', n=1, expand=True).rename(columns={0:'lot_stock_id', 1:'codigo_almacen'})\nalmacenesV2_df['lot_stock_id'] = almacenesV2_df['lot_stock_id'].str[1:]\nalmacenesV2_df['codigo_almacen'] = almacenesV2_df['codigo_almacen'].str[:-1]\nalmacenesV2_df['codigo_almacen'] = almacenesV2_df['codigo_almacen'].str.replace(\"]\",\"\")\nalmacenesV2_df['codigo_almacen'] = almacenesV2_df['codigo_almacen'].str.replace(\"'\",\"\")\nalmacenesV2_df",
      "metadata": {
        "trusted": true
      },
      "execution_count": 7,
      "outputs": [
        {
          "name": "stderr",
          "text": "<ipython-input-7-589d81f3edb9>:5: FutureWarning: The default value of regex will change from True to False in a future version. In addition, single character regular expressions will *not* be treated as literal strings when regex=True.\n  almacenesV2_df['codigo_almacen'] = almacenesV2_df['codigo_almacen'].str.replace(\"]\",\"\")\n",
          "output_type": "stream"
        },
        {
          "execution_count": 7,
          "output_type": "execute_result",
          "data": {
            "text/plain": "   lot_stock_id        codigo_almacen\n0             8     WCENT/Existencias\n1            18     WALAM/Existencias\n2            42     WALLC/Existencias\n3            52     WALQR/Existencias\n4            64     WANDA/Existencias\n5            70     WANTE/Existencias\n6            88     WBOUL/Existencias\n7           100     WCONS/Existencias\n8           107     WCOR2/Existencias\n9           136     WCOR3/Existencias\n10          142     WCOR4/Existencias\n11          314  WMAYOREO/Existencias\n12          166     WFIES/Existencias\n13          178     WGALE/Existencias\n14          184     WGUER/Existencias\n15          208     WHID1/Existencias\n16          196     WHID2/Existencias\n17          154     WCRUZ/Existencias\n18           58     WVICT/Existencias\n19          220     WLEOC/Existencias\n20          125     WMADL/Existencias\n21          214     WMADQ/Existencias\n22          190     WOBRE/Existencias\n23          172     WPCYA/Existencias\n24          148     WPQRO/Existencias\n25          202     WMAYR/Existencias\n26          160     WPATI/Existencias\n27          118     WPORT/Existencias\n28           94     WURBA/Existencias\n29           82     WVRTA/Existencias\n30           76     WVIAL/Existencias",
            "text/html": "<div>\n<style scoped>\n    .dataframe tbody tr th:only-of-type {\n        vertical-align: middle;\n    }\n\n    .dataframe tbody tr th {\n        vertical-align: top;\n    }\n\n    .dataframe thead th {\n        text-align: right;\n    }\n</style>\n<table border=\"1\" class=\"dataframe\">\n  <thead>\n    <tr style=\"text-align: right;\">\n      <th></th>\n      <th>lot_stock_id</th>\n      <th>codigo_almacen</th>\n    </tr>\n  </thead>\n  <tbody>\n    <tr>\n      <th>0</th>\n      <td>8</td>\n      <td>WCENT/Existencias</td>\n    </tr>\n    <tr>\n      <th>1</th>\n      <td>18</td>\n      <td>WALAM/Existencias</td>\n    </tr>\n    <tr>\n      <th>2</th>\n      <td>42</td>\n      <td>WALLC/Existencias</td>\n    </tr>\n    <tr>\n      <th>3</th>\n      <td>52</td>\n      <td>WALQR/Existencias</td>\n    </tr>\n    <tr>\n      <th>4</th>\n      <td>64</td>\n      <td>WANDA/Existencias</td>\n    </tr>\n    <tr>\n      <th>5</th>\n      <td>70</td>\n      <td>WANTE/Existencias</td>\n    </tr>\n    <tr>\n      <th>6</th>\n      <td>88</td>\n      <td>WBOUL/Existencias</td>\n    </tr>\n    <tr>\n      <th>7</th>\n      <td>100</td>\n      <td>WCONS/Existencias</td>\n    </tr>\n    <tr>\n      <th>8</th>\n      <td>107</td>\n      <td>WCOR2/Existencias</td>\n    </tr>\n    <tr>\n      <th>9</th>\n      <td>136</td>\n      <td>WCOR3/Existencias</td>\n    </tr>\n    <tr>\n      <th>10</th>\n      <td>142</td>\n      <td>WCOR4/Existencias</td>\n    </tr>\n    <tr>\n      <th>11</th>\n      <td>314</td>\n      <td>WMAYOREO/Existencias</td>\n    </tr>\n    <tr>\n      <th>12</th>\n      <td>166</td>\n      <td>WFIES/Existencias</td>\n    </tr>\n    <tr>\n      <th>13</th>\n      <td>178</td>\n      <td>WGALE/Existencias</td>\n    </tr>\n    <tr>\n      <th>14</th>\n      <td>184</td>\n      <td>WGUER/Existencias</td>\n    </tr>\n    <tr>\n      <th>15</th>\n      <td>208</td>\n      <td>WHID1/Existencias</td>\n    </tr>\n    <tr>\n      <th>16</th>\n      <td>196</td>\n      <td>WHID2/Existencias</td>\n    </tr>\n    <tr>\n      <th>17</th>\n      <td>154</td>\n      <td>WCRUZ/Existencias</td>\n    </tr>\n    <tr>\n      <th>18</th>\n      <td>58</td>\n      <td>WVICT/Existencias</td>\n    </tr>\n    <tr>\n      <th>19</th>\n      <td>220</td>\n      <td>WLEOC/Existencias</td>\n    </tr>\n    <tr>\n      <th>20</th>\n      <td>125</td>\n      <td>WMADL/Existencias</td>\n    </tr>\n    <tr>\n      <th>21</th>\n      <td>214</td>\n      <td>WMADQ/Existencias</td>\n    </tr>\n    <tr>\n      <th>22</th>\n      <td>190</td>\n      <td>WOBRE/Existencias</td>\n    </tr>\n    <tr>\n      <th>23</th>\n      <td>172</td>\n      <td>WPCYA/Existencias</td>\n    </tr>\n    <tr>\n      <th>24</th>\n      <td>148</td>\n      <td>WPQRO/Existencias</td>\n    </tr>\n    <tr>\n      <th>25</th>\n      <td>202</td>\n      <td>WMAYR/Existencias</td>\n    </tr>\n    <tr>\n      <th>26</th>\n      <td>160</td>\n      <td>WPATI/Existencias</td>\n    </tr>\n    <tr>\n      <th>27</th>\n      <td>118</td>\n      <td>WPORT/Existencias</td>\n    </tr>\n    <tr>\n      <th>28</th>\n      <td>94</td>\n      <td>WURBA/Existencias</td>\n    </tr>\n    <tr>\n      <th>29</th>\n      <td>82</td>\n      <td>WVRTA/Existencias</td>\n    </tr>\n    <tr>\n      <th>30</th>\n      <td>76</td>\n      <td>WVIAL/Existencias</td>\n    </tr>\n  </tbody>\n</table>\n</div>"
          },
          "metadata": {}
        }
      ]
    },
    {
      "cell_type": "code",
      "source": "# Concatenate almacenes_df with almacenesV2_df\nalmacenesV3_df = pd.concat([almacenes_df.drop(columns=['lot_stock_id']), almacenesV2_df], axis=1)\n#Print almacenesV3_df\nalmacenesV3_df",
      "metadata": {
        "trusted": true
      },
      "execution_count": 8,
      "outputs": [
        {
          "execution_count": 8,
          "output_type": "execute_result",
          "data": {
            "text/plain": "    id                  name lot_stock_id        codigo_almacen\n0    1       ALMACEN CENTRAL            8     WCENT/Existencias\n1    2         ALAMEDA (QRO)           18     WALAM/Existencias\n2    6      ALLENDE (CELAYA)           42     WALLC/Existencias\n3    7         ALLENDE (QRO)           52     WALQR/Existencias\n4    9      ANDADOR (CELAYA)           64     WANDA/Existencias\n5   10           ANTEA (QRO)           70     WANTE/Existencias\n6   13      BOULEVARES (QRO)           88     WBOUL/Existencias\n7   15  CONSTITUYENTES (QRO)          100     WCONS/Existencias\n8   16   CORREGIDORA 2 (QRO)          107     WCOR2/Existencias\n9   21   CORREGIDORA 3 (QRO)          136     WCOR3/Existencias\n10  22   CORREGIDORA 4 (QRO)          142     WCOR4/Existencias\n11  36         MAYOREO (QRO)          314  WMAYOREO/Existencias\n12  26     FIESTA (IRAPUATO)          166     WFIES/Existencias\n13  28        GALERIAS (QRO)          178     WGALE/Existencias\n14  29        GUERRERO (QRO)          184     WGUER/Existencias\n15  33      HIDALGO (CELAYA)          208     WHID1/Existencias\n16  31    HIDALGO 2 (CELAYA)          196     WHID2/Existencias\n17  24         LA CRUZ (QRO)          154     WCRUZ/Existencias\n18   8     LA VICTORIA (QRO)           58     WVICT/Existencias\n19  35    LEON CENTRO (LEON)          220     WLEOC/Existencias\n20  19         MADERO (LEON)          125     WMADL/Existencias\n21  34          MADERO (QRO)          214     WMADQ/Existencias\n22  30        OBREGON (LEON)          190     WOBRE/Existencias\n23  27       PARQUE (CELAYA)          172     WPCYA/Existencias\n24  23          PARQUE (QRO)          148     WPQRO/Existencias\n25  32    PLAZA MAYOR (LEON)          202     WMAYR/Existencias\n26  25     PLAZA PATIO (QRO)          160     WPATI/Existencias\n27  18          PORTAL (QRO)          118     WPORT/Existencias\n28  14           URBAN (QRO)           94     WURBA/Existencias\n29  12        VALLARTA (VTA)           82     WVRTA/Existencias\n30  11   VIA ALTA SUR (LEON)           76     WVIAL/Existencias",
            "text/html": "<div>\n<style scoped>\n    .dataframe tbody tr th:only-of-type {\n        vertical-align: middle;\n    }\n\n    .dataframe tbody tr th {\n        vertical-align: top;\n    }\n\n    .dataframe thead th {\n        text-align: right;\n    }\n</style>\n<table border=\"1\" class=\"dataframe\">\n  <thead>\n    <tr style=\"text-align: right;\">\n      <th></th>\n      <th>id</th>\n      <th>name</th>\n      <th>lot_stock_id</th>\n      <th>codigo_almacen</th>\n    </tr>\n  </thead>\n  <tbody>\n    <tr>\n      <th>0</th>\n      <td>1</td>\n      <td>ALMACEN CENTRAL</td>\n      <td>8</td>\n      <td>WCENT/Existencias</td>\n    </tr>\n    <tr>\n      <th>1</th>\n      <td>2</td>\n      <td>ALAMEDA (QRO)</td>\n      <td>18</td>\n      <td>WALAM/Existencias</td>\n    </tr>\n    <tr>\n      <th>2</th>\n      <td>6</td>\n      <td>ALLENDE (CELAYA)</td>\n      <td>42</td>\n      <td>WALLC/Existencias</td>\n    </tr>\n    <tr>\n      <th>3</th>\n      <td>7</td>\n      <td>ALLENDE (QRO)</td>\n      <td>52</td>\n      <td>WALQR/Existencias</td>\n    </tr>\n    <tr>\n      <th>4</th>\n      <td>9</td>\n      <td>ANDADOR (CELAYA)</td>\n      <td>64</td>\n      <td>WANDA/Existencias</td>\n    </tr>\n    <tr>\n      <th>5</th>\n      <td>10</td>\n      <td>ANTEA (QRO)</td>\n      <td>70</td>\n      <td>WANTE/Existencias</td>\n    </tr>\n    <tr>\n      <th>6</th>\n      <td>13</td>\n      <td>BOULEVARES (QRO)</td>\n      <td>88</td>\n      <td>WBOUL/Existencias</td>\n    </tr>\n    <tr>\n      <th>7</th>\n      <td>15</td>\n      <td>CONSTITUYENTES (QRO)</td>\n      <td>100</td>\n      <td>WCONS/Existencias</td>\n    </tr>\n    <tr>\n      <th>8</th>\n      <td>16</td>\n      <td>CORREGIDORA 2 (QRO)</td>\n      <td>107</td>\n      <td>WCOR2/Existencias</td>\n    </tr>\n    <tr>\n      <th>9</th>\n      <td>21</td>\n      <td>CORREGIDORA 3 (QRO)</td>\n      <td>136</td>\n      <td>WCOR3/Existencias</td>\n    </tr>\n    <tr>\n      <th>10</th>\n      <td>22</td>\n      <td>CORREGIDORA 4 (QRO)</td>\n      <td>142</td>\n      <td>WCOR4/Existencias</td>\n    </tr>\n    <tr>\n      <th>11</th>\n      <td>36</td>\n      <td>MAYOREO (QRO)</td>\n      <td>314</td>\n      <td>WMAYOREO/Existencias</td>\n    </tr>\n    <tr>\n      <th>12</th>\n      <td>26</td>\n      <td>FIESTA (IRAPUATO)</td>\n      <td>166</td>\n      <td>WFIES/Existencias</td>\n    </tr>\n    <tr>\n      <th>13</th>\n      <td>28</td>\n      <td>GALERIAS (QRO)</td>\n      <td>178</td>\n      <td>WGALE/Existencias</td>\n    </tr>\n    <tr>\n      <th>14</th>\n      <td>29</td>\n      <td>GUERRERO (QRO)</td>\n      <td>184</td>\n      <td>WGUER/Existencias</td>\n    </tr>\n    <tr>\n      <th>15</th>\n      <td>33</td>\n      <td>HIDALGO (CELAYA)</td>\n      <td>208</td>\n      <td>WHID1/Existencias</td>\n    </tr>\n    <tr>\n      <th>16</th>\n      <td>31</td>\n      <td>HIDALGO 2 (CELAYA)</td>\n      <td>196</td>\n      <td>WHID2/Existencias</td>\n    </tr>\n    <tr>\n      <th>17</th>\n      <td>24</td>\n      <td>LA CRUZ (QRO)</td>\n      <td>154</td>\n      <td>WCRUZ/Existencias</td>\n    </tr>\n    <tr>\n      <th>18</th>\n      <td>8</td>\n      <td>LA VICTORIA (QRO)</td>\n      <td>58</td>\n      <td>WVICT/Existencias</td>\n    </tr>\n    <tr>\n      <th>19</th>\n      <td>35</td>\n      <td>LEON CENTRO (LEON)</td>\n      <td>220</td>\n      <td>WLEOC/Existencias</td>\n    </tr>\n    <tr>\n      <th>20</th>\n      <td>19</td>\n      <td>MADERO (LEON)</td>\n      <td>125</td>\n      <td>WMADL/Existencias</td>\n    </tr>\n    <tr>\n      <th>21</th>\n      <td>34</td>\n      <td>MADERO (QRO)</td>\n      <td>214</td>\n      <td>WMADQ/Existencias</td>\n    </tr>\n    <tr>\n      <th>22</th>\n      <td>30</td>\n      <td>OBREGON (LEON)</td>\n      <td>190</td>\n      <td>WOBRE/Existencias</td>\n    </tr>\n    <tr>\n      <th>23</th>\n      <td>27</td>\n      <td>PARQUE (CELAYA)</td>\n      <td>172</td>\n      <td>WPCYA/Existencias</td>\n    </tr>\n    <tr>\n      <th>24</th>\n      <td>23</td>\n      <td>PARQUE (QRO)</td>\n      <td>148</td>\n      <td>WPQRO/Existencias</td>\n    </tr>\n    <tr>\n      <th>25</th>\n      <td>32</td>\n      <td>PLAZA MAYOR (LEON)</td>\n      <td>202</td>\n      <td>WMAYR/Existencias</td>\n    </tr>\n    <tr>\n      <th>26</th>\n      <td>25</td>\n      <td>PLAZA PATIO (QRO)</td>\n      <td>160</td>\n      <td>WPATI/Existencias</td>\n    </tr>\n    <tr>\n      <th>27</th>\n      <td>18</td>\n      <td>PORTAL (QRO)</td>\n      <td>118</td>\n      <td>WPORT/Existencias</td>\n    </tr>\n    <tr>\n      <th>28</th>\n      <td>14</td>\n      <td>URBAN (QRO)</td>\n      <td>94</td>\n      <td>WURBA/Existencias</td>\n    </tr>\n    <tr>\n      <th>29</th>\n      <td>12</td>\n      <td>VALLARTA (VTA)</td>\n      <td>82</td>\n      <td>WVRTA/Existencias</td>\n    </tr>\n    <tr>\n      <th>30</th>\n      <td>11</td>\n      <td>VIA ALTA SUR (LEON)</td>\n      <td>76</td>\n      <td>WVIAL/Existencias</td>\n    </tr>\n  </tbody>\n</table>\n</div>"
          },
          "metadata": {}
        }
      ]
    },
    {
      "cell_type": "code",
      "source": "almacenesSUC_df = pd.DataFrame({\"create_uid\": [\"SUC. ALAMEDA (QRO)\" ,\"SUC. ALLENDE (CELAYA)\" ,\"SUC. ALLENDE (QRO)\" ,\"SUC. ALLENDE (QRO)\" ,\"SUC. ANDADOR (CELAYA)\" ,\"SUC. ANTEA (QRO)\" ,\"SUC. BOULEVARES (QRO)\" ,\"SUC. CONSTITUYENTES (QRO)\" ,\"SUC. CORREGIDORA 2 (QRO)\" ,\"SUC. CORREGIDORA 2 (QRO)\" ,\"SUC. CORREGIDORA 3 (QRO)\" ,\"SUC. CORREGIDORA 4 (QRO)\" ,\"SUC. CORREGIDORA 4 (QRO)\" ,\"SUC. FIESTA (IRAPUATO)\" ,\"SUC. GALERIAS (QRO)\" ,\"SUC. GUERRERO (QRO)\" ,\"SUC. HIDALGO (CELAYA)\" ,\"SUC. HIDALGO 2 (CELAYA)\" ,\"SUC. LA CRUZ (QRO)\" ,\"SUC. LA VICTORIA (QRO)\" ,\"SUC. LEON CENTRO (LEON)\" ,\"SUC. LEON CENTRO (LEON)\" ,\"SUC. MADERO (LEON)\" ,\"SUC. MADERO (QRO)\" ,\"SUC. MAYOREO (QRO)\" ,\"SUC. OBREGON (LEON)\" ,\"SUC. PARQUE (CELAYA)\" ,\"SUC. PARQUE (QRO)\" ,\"SUC. PLAZA MAYOR (LEON)\" ,\"SUC. PLAZA PATIO (QRO)\" ,\"SUC. PORTAL (QRO)\"]})",
      "metadata": {
        "trusted": true
      },
      "execution_count": 9,
      "outputs": []
    },
    {
      "cell_type": "code",
      "source": "almacenesSUC_df",
      "metadata": {
        "trusted": true
      },
      "execution_count": 10,
      "outputs": [
        {
          "execution_count": 10,
          "output_type": "execute_result",
          "data": {
            "text/plain": "                   create_uid\n0          SUC. ALAMEDA (QRO)\n1       SUC. ALLENDE (CELAYA)\n2          SUC. ALLENDE (QRO)\n3          SUC. ALLENDE (QRO)\n4       SUC. ANDADOR (CELAYA)\n5            SUC. ANTEA (QRO)\n6       SUC. BOULEVARES (QRO)\n7   SUC. CONSTITUYENTES (QRO)\n8    SUC. CORREGIDORA 2 (QRO)\n9    SUC. CORREGIDORA 2 (QRO)\n10   SUC. CORREGIDORA 3 (QRO)\n11   SUC. CORREGIDORA 4 (QRO)\n12   SUC. CORREGIDORA 4 (QRO)\n13     SUC. FIESTA (IRAPUATO)\n14        SUC. GALERIAS (QRO)\n15        SUC. GUERRERO (QRO)\n16      SUC. HIDALGO (CELAYA)\n17    SUC. HIDALGO 2 (CELAYA)\n18         SUC. LA CRUZ (QRO)\n19     SUC. LA VICTORIA (QRO)\n20    SUC. LEON CENTRO (LEON)\n21    SUC. LEON CENTRO (LEON)\n22         SUC. MADERO (LEON)\n23          SUC. MADERO (QRO)\n24         SUC. MAYOREO (QRO)\n25        SUC. OBREGON (LEON)\n26       SUC. PARQUE (CELAYA)\n27          SUC. PARQUE (QRO)\n28    SUC. PLAZA MAYOR (LEON)\n29     SUC. PLAZA PATIO (QRO)\n30          SUC. PORTAL (QRO)",
            "text/html": "<div>\n<style scoped>\n    .dataframe tbody tr th:only-of-type {\n        vertical-align: middle;\n    }\n\n    .dataframe tbody tr th {\n        vertical-align: top;\n    }\n\n    .dataframe thead th {\n        text-align: right;\n    }\n</style>\n<table border=\"1\" class=\"dataframe\">\n  <thead>\n    <tr style=\"text-align: right;\">\n      <th></th>\n      <th>create_uid</th>\n    </tr>\n  </thead>\n  <tbody>\n    <tr>\n      <th>0</th>\n      <td>SUC. ALAMEDA (QRO)</td>\n    </tr>\n    <tr>\n      <th>1</th>\n      <td>SUC. ALLENDE (CELAYA)</td>\n    </tr>\n    <tr>\n      <th>2</th>\n      <td>SUC. ALLENDE (QRO)</td>\n    </tr>\n    <tr>\n      <th>3</th>\n      <td>SUC. ALLENDE (QRO)</td>\n    </tr>\n    <tr>\n      <th>4</th>\n      <td>SUC. ANDADOR (CELAYA)</td>\n    </tr>\n    <tr>\n      <th>5</th>\n      <td>SUC. ANTEA (QRO)</td>\n    </tr>\n    <tr>\n      <th>6</th>\n      <td>SUC. BOULEVARES (QRO)</td>\n    </tr>\n    <tr>\n      <th>7</th>\n      <td>SUC. CONSTITUYENTES (QRO)</td>\n    </tr>\n    <tr>\n      <th>8</th>\n      <td>SUC. CORREGIDORA 2 (QRO)</td>\n    </tr>\n    <tr>\n      <th>9</th>\n      <td>SUC. CORREGIDORA 2 (QRO)</td>\n    </tr>\n    <tr>\n      <th>10</th>\n      <td>SUC. CORREGIDORA 3 (QRO)</td>\n    </tr>\n    <tr>\n      <th>11</th>\n      <td>SUC. CORREGIDORA 4 (QRO)</td>\n    </tr>\n    <tr>\n      <th>12</th>\n      <td>SUC. CORREGIDORA 4 (QRO)</td>\n    </tr>\n    <tr>\n      <th>13</th>\n      <td>SUC. FIESTA (IRAPUATO)</td>\n    </tr>\n    <tr>\n      <th>14</th>\n      <td>SUC. GALERIAS (QRO)</td>\n    </tr>\n    <tr>\n      <th>15</th>\n      <td>SUC. GUERRERO (QRO)</td>\n    </tr>\n    <tr>\n      <th>16</th>\n      <td>SUC. HIDALGO (CELAYA)</td>\n    </tr>\n    <tr>\n      <th>17</th>\n      <td>SUC. HIDALGO 2 (CELAYA)</td>\n    </tr>\n    <tr>\n      <th>18</th>\n      <td>SUC. LA CRUZ (QRO)</td>\n    </tr>\n    <tr>\n      <th>19</th>\n      <td>SUC. LA VICTORIA (QRO)</td>\n    </tr>\n    <tr>\n      <th>20</th>\n      <td>SUC. LEON CENTRO (LEON)</td>\n    </tr>\n    <tr>\n      <th>21</th>\n      <td>SUC. LEON CENTRO (LEON)</td>\n    </tr>\n    <tr>\n      <th>22</th>\n      <td>SUC. MADERO (LEON)</td>\n    </tr>\n    <tr>\n      <th>23</th>\n      <td>SUC. MADERO (QRO)</td>\n    </tr>\n    <tr>\n      <th>24</th>\n      <td>SUC. MAYOREO (QRO)</td>\n    </tr>\n    <tr>\n      <th>25</th>\n      <td>SUC. OBREGON (LEON)</td>\n    </tr>\n    <tr>\n      <th>26</th>\n      <td>SUC. PARQUE (CELAYA)</td>\n    </tr>\n    <tr>\n      <th>27</th>\n      <td>SUC. PARQUE (QRO)</td>\n    </tr>\n    <tr>\n      <th>28</th>\n      <td>SUC. PLAZA MAYOR (LEON)</td>\n    </tr>\n    <tr>\n      <th>29</th>\n      <td>SUC. PLAZA PATIO (QRO)</td>\n    </tr>\n    <tr>\n      <th>30</th>\n      <td>SUC. PORTAL (QRO)</td>\n    </tr>\n  </tbody>\n</table>\n</div>"
          },
          "metadata": {}
        }
      ]
    },
    {
      "cell_type": "code",
      "source": "AlmacenesV4_df = pd.concat([almacenesV3_df,almacenesSUC_df], axis = 1)\nAlmacenesV4_df",
      "metadata": {
        "trusted": true
      },
      "execution_count": 11,
      "outputs": [
        {
          "execution_count": 11,
          "output_type": "execute_result",
          "data": {
            "text/plain": "    id                  name lot_stock_id        codigo_almacen  \\\n0    1       ALMACEN CENTRAL            8     WCENT/Existencias   \n1    2         ALAMEDA (QRO)           18     WALAM/Existencias   \n2    6      ALLENDE (CELAYA)           42     WALLC/Existencias   \n3    7         ALLENDE (QRO)           52     WALQR/Existencias   \n4    9      ANDADOR (CELAYA)           64     WANDA/Existencias   \n5   10           ANTEA (QRO)           70     WANTE/Existencias   \n6   13      BOULEVARES (QRO)           88     WBOUL/Existencias   \n7   15  CONSTITUYENTES (QRO)          100     WCONS/Existencias   \n8   16   CORREGIDORA 2 (QRO)          107     WCOR2/Existencias   \n9   21   CORREGIDORA 3 (QRO)          136     WCOR3/Existencias   \n10  22   CORREGIDORA 4 (QRO)          142     WCOR4/Existencias   \n11  36         MAYOREO (QRO)          314  WMAYOREO/Existencias   \n12  26     FIESTA (IRAPUATO)          166     WFIES/Existencias   \n13  28        GALERIAS (QRO)          178     WGALE/Existencias   \n14  29        GUERRERO (QRO)          184     WGUER/Existencias   \n15  33      HIDALGO (CELAYA)          208     WHID1/Existencias   \n16  31    HIDALGO 2 (CELAYA)          196     WHID2/Existencias   \n17  24         LA CRUZ (QRO)          154     WCRUZ/Existencias   \n18   8     LA VICTORIA (QRO)           58     WVICT/Existencias   \n19  35    LEON CENTRO (LEON)          220     WLEOC/Existencias   \n20  19         MADERO (LEON)          125     WMADL/Existencias   \n21  34          MADERO (QRO)          214     WMADQ/Existencias   \n22  30        OBREGON (LEON)          190     WOBRE/Existencias   \n23  27       PARQUE (CELAYA)          172     WPCYA/Existencias   \n24  23          PARQUE (QRO)          148     WPQRO/Existencias   \n25  32    PLAZA MAYOR (LEON)          202     WMAYR/Existencias   \n26  25     PLAZA PATIO (QRO)          160     WPATI/Existencias   \n27  18          PORTAL (QRO)          118     WPORT/Existencias   \n28  14           URBAN (QRO)           94     WURBA/Existencias   \n29  12        VALLARTA (VTA)           82     WVRTA/Existencias   \n30  11   VIA ALTA SUR (LEON)           76     WVIAL/Existencias   \n\n                   create_uid  \n0          SUC. ALAMEDA (QRO)  \n1       SUC. ALLENDE (CELAYA)  \n2          SUC. ALLENDE (QRO)  \n3          SUC. ALLENDE (QRO)  \n4       SUC. ANDADOR (CELAYA)  \n5            SUC. ANTEA (QRO)  \n6       SUC. BOULEVARES (QRO)  \n7   SUC. CONSTITUYENTES (QRO)  \n8    SUC. CORREGIDORA 2 (QRO)  \n9    SUC. CORREGIDORA 2 (QRO)  \n10   SUC. CORREGIDORA 3 (QRO)  \n11   SUC. CORREGIDORA 4 (QRO)  \n12   SUC. CORREGIDORA 4 (QRO)  \n13     SUC. FIESTA (IRAPUATO)  \n14        SUC. GALERIAS (QRO)  \n15        SUC. GUERRERO (QRO)  \n16      SUC. HIDALGO (CELAYA)  \n17    SUC. HIDALGO 2 (CELAYA)  \n18         SUC. LA CRUZ (QRO)  \n19     SUC. LA VICTORIA (QRO)  \n20    SUC. LEON CENTRO (LEON)  \n21    SUC. LEON CENTRO (LEON)  \n22         SUC. MADERO (LEON)  \n23          SUC. MADERO (QRO)  \n24         SUC. MAYOREO (QRO)  \n25        SUC. OBREGON (LEON)  \n26       SUC. PARQUE (CELAYA)  \n27          SUC. PARQUE (QRO)  \n28    SUC. PLAZA MAYOR (LEON)  \n29     SUC. PLAZA PATIO (QRO)  \n30          SUC. PORTAL (QRO)  ",
            "text/html": "<div>\n<style scoped>\n    .dataframe tbody tr th:only-of-type {\n        vertical-align: middle;\n    }\n\n    .dataframe tbody tr th {\n        vertical-align: top;\n    }\n\n    .dataframe thead th {\n        text-align: right;\n    }\n</style>\n<table border=\"1\" class=\"dataframe\">\n  <thead>\n    <tr style=\"text-align: right;\">\n      <th></th>\n      <th>id</th>\n      <th>name</th>\n      <th>lot_stock_id</th>\n      <th>codigo_almacen</th>\n      <th>create_uid</th>\n    </tr>\n  </thead>\n  <tbody>\n    <tr>\n      <th>0</th>\n      <td>1</td>\n      <td>ALMACEN CENTRAL</td>\n      <td>8</td>\n      <td>WCENT/Existencias</td>\n      <td>SUC. ALAMEDA (QRO)</td>\n    </tr>\n    <tr>\n      <th>1</th>\n      <td>2</td>\n      <td>ALAMEDA (QRO)</td>\n      <td>18</td>\n      <td>WALAM/Existencias</td>\n      <td>SUC. ALLENDE (CELAYA)</td>\n    </tr>\n    <tr>\n      <th>2</th>\n      <td>6</td>\n      <td>ALLENDE (CELAYA)</td>\n      <td>42</td>\n      <td>WALLC/Existencias</td>\n      <td>SUC. ALLENDE (QRO)</td>\n    </tr>\n    <tr>\n      <th>3</th>\n      <td>7</td>\n      <td>ALLENDE (QRO)</td>\n      <td>52</td>\n      <td>WALQR/Existencias</td>\n      <td>SUC. ALLENDE (QRO)</td>\n    </tr>\n    <tr>\n      <th>4</th>\n      <td>9</td>\n      <td>ANDADOR (CELAYA)</td>\n      <td>64</td>\n      <td>WANDA/Existencias</td>\n      <td>SUC. ANDADOR (CELAYA)</td>\n    </tr>\n    <tr>\n      <th>5</th>\n      <td>10</td>\n      <td>ANTEA (QRO)</td>\n      <td>70</td>\n      <td>WANTE/Existencias</td>\n      <td>SUC. ANTEA (QRO)</td>\n    </tr>\n    <tr>\n      <th>6</th>\n      <td>13</td>\n      <td>BOULEVARES (QRO)</td>\n      <td>88</td>\n      <td>WBOUL/Existencias</td>\n      <td>SUC. BOULEVARES (QRO)</td>\n    </tr>\n    <tr>\n      <th>7</th>\n      <td>15</td>\n      <td>CONSTITUYENTES (QRO)</td>\n      <td>100</td>\n      <td>WCONS/Existencias</td>\n      <td>SUC. CONSTITUYENTES (QRO)</td>\n    </tr>\n    <tr>\n      <th>8</th>\n      <td>16</td>\n      <td>CORREGIDORA 2 (QRO)</td>\n      <td>107</td>\n      <td>WCOR2/Existencias</td>\n      <td>SUC. CORREGIDORA 2 (QRO)</td>\n    </tr>\n    <tr>\n      <th>9</th>\n      <td>21</td>\n      <td>CORREGIDORA 3 (QRO)</td>\n      <td>136</td>\n      <td>WCOR3/Existencias</td>\n      <td>SUC. CORREGIDORA 2 (QRO)</td>\n    </tr>\n    <tr>\n      <th>10</th>\n      <td>22</td>\n      <td>CORREGIDORA 4 (QRO)</td>\n      <td>142</td>\n      <td>WCOR4/Existencias</td>\n      <td>SUC. CORREGIDORA 3 (QRO)</td>\n    </tr>\n    <tr>\n      <th>11</th>\n      <td>36</td>\n      <td>MAYOREO (QRO)</td>\n      <td>314</td>\n      <td>WMAYOREO/Existencias</td>\n      <td>SUC. CORREGIDORA 4 (QRO)</td>\n    </tr>\n    <tr>\n      <th>12</th>\n      <td>26</td>\n      <td>FIESTA (IRAPUATO)</td>\n      <td>166</td>\n      <td>WFIES/Existencias</td>\n      <td>SUC. CORREGIDORA 4 (QRO)</td>\n    </tr>\n    <tr>\n      <th>13</th>\n      <td>28</td>\n      <td>GALERIAS (QRO)</td>\n      <td>178</td>\n      <td>WGALE/Existencias</td>\n      <td>SUC. FIESTA (IRAPUATO)</td>\n    </tr>\n    <tr>\n      <th>14</th>\n      <td>29</td>\n      <td>GUERRERO (QRO)</td>\n      <td>184</td>\n      <td>WGUER/Existencias</td>\n      <td>SUC. GALERIAS (QRO)</td>\n    </tr>\n    <tr>\n      <th>15</th>\n      <td>33</td>\n      <td>HIDALGO (CELAYA)</td>\n      <td>208</td>\n      <td>WHID1/Existencias</td>\n      <td>SUC. GUERRERO (QRO)</td>\n    </tr>\n    <tr>\n      <th>16</th>\n      <td>31</td>\n      <td>HIDALGO 2 (CELAYA)</td>\n      <td>196</td>\n      <td>WHID2/Existencias</td>\n      <td>SUC. HIDALGO (CELAYA)</td>\n    </tr>\n    <tr>\n      <th>17</th>\n      <td>24</td>\n      <td>LA CRUZ (QRO)</td>\n      <td>154</td>\n      <td>WCRUZ/Existencias</td>\n      <td>SUC. HIDALGO 2 (CELAYA)</td>\n    </tr>\n    <tr>\n      <th>18</th>\n      <td>8</td>\n      <td>LA VICTORIA (QRO)</td>\n      <td>58</td>\n      <td>WVICT/Existencias</td>\n      <td>SUC. LA CRUZ (QRO)</td>\n    </tr>\n    <tr>\n      <th>19</th>\n      <td>35</td>\n      <td>LEON CENTRO (LEON)</td>\n      <td>220</td>\n      <td>WLEOC/Existencias</td>\n      <td>SUC. LA VICTORIA (QRO)</td>\n    </tr>\n    <tr>\n      <th>20</th>\n      <td>19</td>\n      <td>MADERO (LEON)</td>\n      <td>125</td>\n      <td>WMADL/Existencias</td>\n      <td>SUC. LEON CENTRO (LEON)</td>\n    </tr>\n    <tr>\n      <th>21</th>\n      <td>34</td>\n      <td>MADERO (QRO)</td>\n      <td>214</td>\n      <td>WMADQ/Existencias</td>\n      <td>SUC. LEON CENTRO (LEON)</td>\n    </tr>\n    <tr>\n      <th>22</th>\n      <td>30</td>\n      <td>OBREGON (LEON)</td>\n      <td>190</td>\n      <td>WOBRE/Existencias</td>\n      <td>SUC. MADERO (LEON)</td>\n    </tr>\n    <tr>\n      <th>23</th>\n      <td>27</td>\n      <td>PARQUE (CELAYA)</td>\n      <td>172</td>\n      <td>WPCYA/Existencias</td>\n      <td>SUC. MADERO (QRO)</td>\n    </tr>\n    <tr>\n      <th>24</th>\n      <td>23</td>\n      <td>PARQUE (QRO)</td>\n      <td>148</td>\n      <td>WPQRO/Existencias</td>\n      <td>SUC. MAYOREO (QRO)</td>\n    </tr>\n    <tr>\n      <th>25</th>\n      <td>32</td>\n      <td>PLAZA MAYOR (LEON)</td>\n      <td>202</td>\n      <td>WMAYR/Existencias</td>\n      <td>SUC. OBREGON (LEON)</td>\n    </tr>\n    <tr>\n      <th>26</th>\n      <td>25</td>\n      <td>PLAZA PATIO (QRO)</td>\n      <td>160</td>\n      <td>WPATI/Existencias</td>\n      <td>SUC. PARQUE (CELAYA)</td>\n    </tr>\n    <tr>\n      <th>27</th>\n      <td>18</td>\n      <td>PORTAL (QRO)</td>\n      <td>118</td>\n      <td>WPORT/Existencias</td>\n      <td>SUC. PARQUE (QRO)</td>\n    </tr>\n    <tr>\n      <th>28</th>\n      <td>14</td>\n      <td>URBAN (QRO)</td>\n      <td>94</td>\n      <td>WURBA/Existencias</td>\n      <td>SUC. PLAZA MAYOR (LEON)</td>\n    </tr>\n    <tr>\n      <th>29</th>\n      <td>12</td>\n      <td>VALLARTA (VTA)</td>\n      <td>82</td>\n      <td>WVRTA/Existencias</td>\n      <td>SUC. PLAZA PATIO (QRO)</td>\n    </tr>\n    <tr>\n      <th>30</th>\n      <td>11</td>\n      <td>VIA ALTA SUR (LEON)</td>\n      <td>76</td>\n      <td>WVIAL/Existencias</td>\n      <td>SUC. PORTAL (QRO)</td>\n    </tr>\n  </tbody>\n</table>\n</div>"
          },
          "metadata": {}
        }
      ]
    },
    {
      "cell_type": "code",
      "source": "AlmacenesVF = AlmacenesV4_df.drop(['id', 'lot_stock_id','codigo_almacen'], axis=1)\nAlmacenesVF",
      "metadata": {
        "trusted": true
      },
      "execution_count": 12,
      "outputs": [
        {
          "execution_count": 12,
          "output_type": "execute_result",
          "data": {
            "text/plain": "                    name                 create_uid\n0        ALMACEN CENTRAL         SUC. ALAMEDA (QRO)\n1          ALAMEDA (QRO)      SUC. ALLENDE (CELAYA)\n2       ALLENDE (CELAYA)         SUC. ALLENDE (QRO)\n3          ALLENDE (QRO)         SUC. ALLENDE (QRO)\n4       ANDADOR (CELAYA)      SUC. ANDADOR (CELAYA)\n5            ANTEA (QRO)           SUC. ANTEA (QRO)\n6       BOULEVARES (QRO)      SUC. BOULEVARES (QRO)\n7   CONSTITUYENTES (QRO)  SUC. CONSTITUYENTES (QRO)\n8    CORREGIDORA 2 (QRO)   SUC. CORREGIDORA 2 (QRO)\n9    CORREGIDORA 3 (QRO)   SUC. CORREGIDORA 2 (QRO)\n10   CORREGIDORA 4 (QRO)   SUC. CORREGIDORA 3 (QRO)\n11         MAYOREO (QRO)   SUC. CORREGIDORA 4 (QRO)\n12     FIESTA (IRAPUATO)   SUC. CORREGIDORA 4 (QRO)\n13        GALERIAS (QRO)     SUC. FIESTA (IRAPUATO)\n14        GUERRERO (QRO)        SUC. GALERIAS (QRO)\n15      HIDALGO (CELAYA)        SUC. GUERRERO (QRO)\n16    HIDALGO 2 (CELAYA)      SUC. HIDALGO (CELAYA)\n17         LA CRUZ (QRO)    SUC. HIDALGO 2 (CELAYA)\n18     LA VICTORIA (QRO)         SUC. LA CRUZ (QRO)\n19    LEON CENTRO (LEON)     SUC. LA VICTORIA (QRO)\n20         MADERO (LEON)    SUC. LEON CENTRO (LEON)\n21          MADERO (QRO)    SUC. LEON CENTRO (LEON)\n22        OBREGON (LEON)         SUC. MADERO (LEON)\n23       PARQUE (CELAYA)          SUC. MADERO (QRO)\n24          PARQUE (QRO)         SUC. MAYOREO (QRO)\n25    PLAZA MAYOR (LEON)        SUC. OBREGON (LEON)\n26     PLAZA PATIO (QRO)       SUC. PARQUE (CELAYA)\n27          PORTAL (QRO)          SUC. PARQUE (QRO)\n28           URBAN (QRO)    SUC. PLAZA MAYOR (LEON)\n29        VALLARTA (VTA)     SUC. PLAZA PATIO (QRO)\n30   VIA ALTA SUR (LEON)          SUC. PORTAL (QRO)",
            "text/html": "<div>\n<style scoped>\n    .dataframe tbody tr th:only-of-type {\n        vertical-align: middle;\n    }\n\n    .dataframe tbody tr th {\n        vertical-align: top;\n    }\n\n    .dataframe thead th {\n        text-align: right;\n    }\n</style>\n<table border=\"1\" class=\"dataframe\">\n  <thead>\n    <tr style=\"text-align: right;\">\n      <th></th>\n      <th>name</th>\n      <th>create_uid</th>\n    </tr>\n  </thead>\n  <tbody>\n    <tr>\n      <th>0</th>\n      <td>ALMACEN CENTRAL</td>\n      <td>SUC. ALAMEDA (QRO)</td>\n    </tr>\n    <tr>\n      <th>1</th>\n      <td>ALAMEDA (QRO)</td>\n      <td>SUC. ALLENDE (CELAYA)</td>\n    </tr>\n    <tr>\n      <th>2</th>\n      <td>ALLENDE (CELAYA)</td>\n      <td>SUC. ALLENDE (QRO)</td>\n    </tr>\n    <tr>\n      <th>3</th>\n      <td>ALLENDE (QRO)</td>\n      <td>SUC. ALLENDE (QRO)</td>\n    </tr>\n    <tr>\n      <th>4</th>\n      <td>ANDADOR (CELAYA)</td>\n      <td>SUC. ANDADOR (CELAYA)</td>\n    </tr>\n    <tr>\n      <th>5</th>\n      <td>ANTEA (QRO)</td>\n      <td>SUC. ANTEA (QRO)</td>\n    </tr>\n    <tr>\n      <th>6</th>\n      <td>BOULEVARES (QRO)</td>\n      <td>SUC. BOULEVARES (QRO)</td>\n    </tr>\n    <tr>\n      <th>7</th>\n      <td>CONSTITUYENTES (QRO)</td>\n      <td>SUC. CONSTITUYENTES (QRO)</td>\n    </tr>\n    <tr>\n      <th>8</th>\n      <td>CORREGIDORA 2 (QRO)</td>\n      <td>SUC. CORREGIDORA 2 (QRO)</td>\n    </tr>\n    <tr>\n      <th>9</th>\n      <td>CORREGIDORA 3 (QRO)</td>\n      <td>SUC. CORREGIDORA 2 (QRO)</td>\n    </tr>\n    <tr>\n      <th>10</th>\n      <td>CORREGIDORA 4 (QRO)</td>\n      <td>SUC. CORREGIDORA 3 (QRO)</td>\n    </tr>\n    <tr>\n      <th>11</th>\n      <td>MAYOREO (QRO)</td>\n      <td>SUC. CORREGIDORA 4 (QRO)</td>\n    </tr>\n    <tr>\n      <th>12</th>\n      <td>FIESTA (IRAPUATO)</td>\n      <td>SUC. CORREGIDORA 4 (QRO)</td>\n    </tr>\n    <tr>\n      <th>13</th>\n      <td>GALERIAS (QRO)</td>\n      <td>SUC. FIESTA (IRAPUATO)</td>\n    </tr>\n    <tr>\n      <th>14</th>\n      <td>GUERRERO (QRO)</td>\n      <td>SUC. GALERIAS (QRO)</td>\n    </tr>\n    <tr>\n      <th>15</th>\n      <td>HIDALGO (CELAYA)</td>\n      <td>SUC. GUERRERO (QRO)</td>\n    </tr>\n    <tr>\n      <th>16</th>\n      <td>HIDALGO 2 (CELAYA)</td>\n      <td>SUC. HIDALGO (CELAYA)</td>\n    </tr>\n    <tr>\n      <th>17</th>\n      <td>LA CRUZ (QRO)</td>\n      <td>SUC. HIDALGO 2 (CELAYA)</td>\n    </tr>\n    <tr>\n      <th>18</th>\n      <td>LA VICTORIA (QRO)</td>\n      <td>SUC. LA CRUZ (QRO)</td>\n    </tr>\n    <tr>\n      <th>19</th>\n      <td>LEON CENTRO (LEON)</td>\n      <td>SUC. LA VICTORIA (QRO)</td>\n    </tr>\n    <tr>\n      <th>20</th>\n      <td>MADERO (LEON)</td>\n      <td>SUC. LEON CENTRO (LEON)</td>\n    </tr>\n    <tr>\n      <th>21</th>\n      <td>MADERO (QRO)</td>\n      <td>SUC. LEON CENTRO (LEON)</td>\n    </tr>\n    <tr>\n      <th>22</th>\n      <td>OBREGON (LEON)</td>\n      <td>SUC. MADERO (LEON)</td>\n    </tr>\n    <tr>\n      <th>23</th>\n      <td>PARQUE (CELAYA)</td>\n      <td>SUC. MADERO (QRO)</td>\n    </tr>\n    <tr>\n      <th>24</th>\n      <td>PARQUE (QRO)</td>\n      <td>SUC. MAYOREO (QRO)</td>\n    </tr>\n    <tr>\n      <th>25</th>\n      <td>PLAZA MAYOR (LEON)</td>\n      <td>SUC. OBREGON (LEON)</td>\n    </tr>\n    <tr>\n      <th>26</th>\n      <td>PLAZA PATIO (QRO)</td>\n      <td>SUC. PARQUE (CELAYA)</td>\n    </tr>\n    <tr>\n      <th>27</th>\n      <td>PORTAL (QRO)</td>\n      <td>SUC. PARQUE (QRO)</td>\n    </tr>\n    <tr>\n      <th>28</th>\n      <td>URBAN (QRO)</td>\n      <td>SUC. PLAZA MAYOR (LEON)</td>\n    </tr>\n    <tr>\n      <th>29</th>\n      <td>VALLARTA (VTA)</td>\n      <td>SUC. PLAZA PATIO (QRO)</td>\n    </tr>\n    <tr>\n      <th>30</th>\n      <td>VIA ALTA SUR (LEON)</td>\n      <td>SUC. PORTAL (QRO)</td>\n    </tr>\n  </tbody>\n</table>\n</div>"
          },
          "metadata": {}
        }
      ]
    },
    {
      "cell_type": "code",
      "source": "# Export the final table to a CSV file\nAlmacenesVF.to_csv('almacenes_dimovil.csv', index=False)",
      "metadata": {
        "trusted": true
      },
      "execution_count": 13,
      "outputs": []
    },
    {
      "cell_type": "code",
      "source": "",
      "metadata": {},
      "execution_count": null,
      "outputs": []
    }
  ]
}
